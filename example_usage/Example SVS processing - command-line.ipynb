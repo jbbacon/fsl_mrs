{
 "cells": [
  {
   "cell_type": "markdown",
   "metadata": {},
   "source": [
    "# Example of SVS processing on the command line"
   ]
  },
  {
   "cell_type": "markdown",
   "metadata": {},
   "source": [
    "This notebook demos the process of fitting a single voxel scan using the command line scripts included in FSL MRS.\n",
    "### Contents:  \n",
    "- [1. File conversion using spec2nii](#1.-File-conversion-using-spec2nii)\n",
    "- [2. Preprocessing in two ways](#2.-Preprocessing-of-the-data)\n",
    "    - [2.1. Using individual fsl_mrs_proc commands](#2.1-Pre-processing-using-fsl_mrs_proc)\n",
    "    - [2.2. In one step using the script fsl_mrs_preproc](#2.2-Pre-processing-using-fsl_mrs_preproc)\n",
    "- [3. Tissue segmentation](#3.-Run-tissue-segmentation)\n",
    "- [4. Fitting of the resultant spectrum](#4.-Fit-the-data)\n",
    "- [5. Display the fitting reports](#5.-Display-the-result)\n",
    "\n",
    "Will Clarke  \n",
    "June 2020  \n",
    "University of Oxford"
   ]
  },
  {
   "cell_type": "markdown",
   "metadata": {},
   "source": [
    "## 1. File conversion using spec2nii\n",
    "\n",
    "Run spec2nii twix -v to establish the file contents, then using this information run spec2nii twix -e with the appropriate flags to extract the required scans. The -q flag suppresses text output.\n",
    "\n",
    "This dataset uses a modified versions of the CMRR spectro package sequences on a Siemens scanner. It has three sets of water reference scans. The first is tagged as a phase correction, ans is collected at the start of the main suppressed water scan and will be used for eddy current correction.\n",
    "\n",
    "The second is collected in a separate scan with only the RF portion of the water suppression disabled. This is used for coil combination (and could be used for eddy current correction). The third is collected with the OVS and all aspects of the water suppression disabled. It therefore experiences eddy currents unlike all the other scans. It will be used for final concentration scaling."
   ]
  },
  {
   "cell_type": "code",
   "execution_count": null,
   "metadata": {},
   "outputs": [],
   "source": [
    "%%bash\n",
    "\n",
    "spec2nii twix -v -q example_data/meas_MID310_STEAM_metab_FID115673.dat"
   ]
  },
  {
   "cell_type": "markdown",
   "metadata": {},
   "source": [
    "From the final lines of the output of the first cell we can see that this \"twix\" file contains two groups of data.  \n",
    "The first is tagged as \"image\" and contains 64 repetitions (sets) of 4096 point FIDs collected on 32 channels.  \n",
    "The second has a single FID on each channel.\n",
    "\n",
    "We now call spec2nii again specifying the group we want to extract each time. Each call to spec2nii will generate a NIfTI MRS file with a size of 1x1x1x4096x32xNdyn, where Ndyn is the number of dynamics (repeats).\n",
    "  \n",
    "We repeat this for the water reference scans, extracting just the image data."
   ]
  },
  {
   "cell_type": "code",
   "execution_count": null,
   "metadata": {},
   "outputs": [],
   "source": [
    "%%bash\n",
    "spec2nii twix -e image    -f steam_metab_raw -o data -q example_data/meas_MID310_STEAM_metab_FID115673.dat\n",
    "spec2nii twix -e phasecor -f steam_ecc_raw   -o data -q example_data/meas_MID310_STEAM_metab_FID115673.dat\n",
    "\n",
    "spec2nii twix -e image    -f steam_wref_comb_raw  -o data -q example_data/meas_MID311_STEAM_wref1_FID115674.dat\n",
    "spec2nii twix -e image    -f steam_wref_quant_raw -o data -q example_data/meas_MID312_STEAM_wref3_FID115675.dat"
   ]
  },
  {
   "cell_type": "code",
   "execution_count": null,
   "metadata": {
    "scrolled": true
   },
   "outputs": [],
   "source": [
    "%%bash\n",
    "# Check the content of the output folder\n",
    "ls data"
   ]
  },
  {
   "cell_type": "markdown",
   "metadata": {},
   "source": [
    "After conversion we have four files. steam_metab_raw is the the suppressed water data. \n",
    "  \n",
    "We also have one ecc scan, and two water reference scans. The former contains a single dynamic, whilst the latter two contain two dynamics. All have data from 32 uncombined coils."
   ]
  },
  {
   "cell_type": "markdown",
   "metadata": {},
   "source": [
    "## 2. Preprocessing of the data\n",
    "\n",
    "### 2.1 Pre-processing using fsl_mrs_proc\n",
    "In this section we will preprocess the data using individual subcommands of the fsl_mrs_proc script to preprocess step-by-step. This example could be used as a template to construct your own preprocessing script in either python or another batch processing script (e.g. bash).  \n",
    "\n",
    "\n",
    "#### Description of steps\n",
    "1. Take averages of water references used for combination across files\n",
    "2. Coil combine the metab data, the ecc data and the quantification data using the \"comb\" data as the reference.\n",
    "3. Phase and frequency align the data where there are multiple transients.\n",
    "4. Combine data across those transients by taking the mean.\n",
    "5. Run eddy current correction using the appropriate reference.\n",
    "6. In this data an additional FID point is collected before the echo centre. Remove this.\n",
    "7. Run HLSVD on the data to remove the residual water in the water suppressed data.\n",
    "6. Phase the data by a single peak as a crude zero-order phase correction.\n",
    "\n",
    "Note that the \"%sx\" command is only required in this example notebook and are unecessary on the command line."
   ]
  },
  {
   "cell_type": "code",
   "execution_count": null,
   "metadata": {},
   "outputs": [],
   "source": [
    "import os\n",
    "if not os.path.isdir('fsl_mrs_proc'):\n",
    "    os.mkdir('fsl_mrs_proc')\n",
    "\n",
    "#1. Combine water reference data for combination across dynamics\n",
    "%sx fsl_mrs_proc average --file data/steam_wref_comb_raw.nii.gz --dim DIM_DYN --output fsl_mrs_proc --filename steam_wref_comb\n",
    "\n",
    "#2. Run coil combination on the three sets of data\n",
    "%sx fsl_mrs_proc coilcombine --file data/steam_metab_raw.nii.gz --reference fsl_mrs_proc/steam_wref_comb.nii.gz --output fsl_mrs_proc -r \n",
    "%sx fsl_mrs_proc coilcombine --file data/steam_wref_quant_raw.nii.gz --reference fsl_mrs_proc/steam_wref_comb.nii.gz --output fsl_mrs_proc \n",
    "%sx fsl_mrs_proc coilcombine --file data/steam_ecc_raw.nii.gz --reference fsl_mrs_proc/steam_wref_comb.nii.gz --output fsl_mrs_proc \n",
    "\n",
    "#3. Align averages of water ref and metab data\n",
    "%sx fsl_mrs_proc align --file fsl_mrs_proc/steam_metab_raw.nii.gz --ppm 1.8 3.5 --output fsl_mrs_proc -r --filename steam_metab_align --apod 50 \n",
    "%sx fsl_mrs_proc align --file fsl_mrs_proc/steam_wref_quant_raw.nii.gz --ppm 4 6 --output fsl_mrs_proc --filename steam_water_align \n",
    "\n",
    "#3. Combine data across averages\n",
    "%sx fsl_mrs_proc average --file fsl_mrs_proc/steam_metab_align.nii.gz --dim DIM_DYN  --output fsl_mrs_proc -r --filename steam_metab_comb \n",
    "%sx fsl_mrs_proc average --file fsl_mrs_proc/steam_water_align.nii.gz --dim DIM_DYN --output fsl_mrs_proc --filename steam_wquant_comb \n",
    "\n",
    "#5. Run the eddy current correction on the data\n",
    "%sx fsl_mrs_proc ecc --file fsl_mrs_proc/steam_metab_comb.nii.gz --reference fsl_mrs_proc/steam_ecc_raw.nii.gz  --output fsl_mrs_proc -r --filename steam_metab_comb_ecc \n",
    "%sx fsl_mrs_proc ecc --file fsl_mrs_proc/steam_wquant_comb.nii.gz --reference fsl_mrs_proc/steam_wquant_comb.nii.gz --output fsl_mrs_proc --filename steam_wquant_comb_ecc \n",
    "\n",
    "#6. Remove the first FID point\n",
    "%sx fsl_mrs_proc truncate --file fsl_mrs_proc/steam_metab_comb_ecc.nii.gz --points -1 --pos first --output fsl_mrs_proc -r \n",
    "%sx fsl_mrs_proc truncate --file fsl_mrs_proc/steam_wquant_comb_ecc.nii.gz --points -1 --pos first --output fsl_mrs_proc \n",
    "\n",
    "#7. Run HLSVD on the data\n",
    "%sx fsl_mrs_proc remove --file fsl_mrs_proc/steam_metab_comb_ecc.nii.gz --output fsl_mrs_proc -r --filename steam_metab_comb_ecc_hlsvd \n",
    "\n",
    "#6. Phase the data\n",
    "%sx fsl_mrs_proc phase --file fsl_mrs_proc/steam_metab_comb_ecc_hlsvd.nii.gz --output fsl_mrs_proc -r --filename metab \n",
    "%sx fsl_mrs_proc phase --ppm 4.6 4.7 --file fsl_mrs_proc/steam_wquant_comb_ecc.nii.gz --output fsl_mrs_proc --filename water "
   ]
  },
  {
   "cell_type": "markdown",
   "metadata": {},
   "source": [
    "Combine the reports generated by the individual preprocessing commands"
   ]
  },
  {
   "cell_type": "code",
   "execution_count": null,
   "metadata": {},
   "outputs": [],
   "source": [
    "%sx merge_mrs_reports -d CMD_line_test -o fsl_mrs_proc --delete fsl_mrs_proc/*.html "
   ]
  },
  {
   "cell_type": "markdown",
   "metadata": {},
   "source": [
    "### 2.2 Pre-processing using fsl_mrs_preproc\n",
    "In this section we will preprocess the data using a single preprocessing script which encapsulates all of the commands run above. Some of the commands are optional."
   ]
  },
  {
   "cell_type": "code",
   "execution_count": null,
   "metadata": {},
   "outputs": [],
   "source": [
    "%sx fsl_mrs_preproc --output fsl_mrs_preproc --data data/steam_metab_raw.nii.gz --reference data/steam_wref_comb_raw.nii.gz --quant data/steam_wref_quant_raw.nii.gz --ecc data/steam_ecc_raw.nii.gz --remove-water --truncate-fid 1 --t1 example_data/T1.anat/T1_biascorr.nii.gz --overwrite --report \n",
    "\n",
    "# You can also run this script without independent quant and ecc data (just 1 water reference)\n",
    "%sx fsl_mrs_preproc --output fsl_mrs_preproc_simple --data data/steam_metab_raw.nii.gz --reference data/steam_wref_comb_raw.nii.gz --remove-water --truncate-fid 1 --t1 example_data/T1.anat/T1_biascorr.nii.gz --overwrite --report "
   ]
  },
  {
   "cell_type": "markdown",
   "metadata": {},
   "source": [
    "### 3. Run tissue segmentation\n",
    "Run tissue segmentation on the packaged T1 data and mask using the SVS voxel. Here we provide a (partial) .anat file produced by [fsl_anat](https://fsl.fmrib.ox.ac.uk/fsl/fslwiki/fsl_anat) to speed up execution.\n",
    "\n",
    "This step requires an installation of FSL compatible with fslpy. If you don't want to run this step the fitting step can be run using a pre-packaged tissue segmentation file (example_data/segmentation.json)."
   ]
  },
  {
   "cell_type": "code",
   "execution_count": null,
   "metadata": {},
   "outputs": [],
   "source": [
    "%sx svs_segment -a example_data/T1.anat fsl_mrs_proc/metab.nii.gz"
   ]
  },
  {
   "cell_type": "markdown",
   "metadata": {},
   "source": [
    "### 4. Fit the data\n",
    "Run a quick fit using the Newton method (here using the processed data in `fsl_mrs_preproc`)"
   ]
  },
  {
   "cell_type": "code",
   "execution_count": null,
   "metadata": {},
   "outputs": [],
   "source": [
    "# Quick fit \n",
    "%sx fsl_mrs --data fsl_mrs_preproc/metab.nii.gz --basis example_data/steam_11ms --output fit_short --metab_groups Mac --overwrite --report --t1  example_data/T1.anat/T1_biascorr.nii.gz  --h2o fsl_mrs_preproc/wref.nii.gz --tissue_frac segmentation.json\n"
   ]
  },
  {
   "cell_type": "markdown",
   "metadata": {},
   "source": [
    "Or run a full fit with the MCMC method"
   ]
  },
  {
   "cell_type": "code",
   "execution_count": null,
   "metadata": {},
   "outputs": [],
   "source": [
    "# Full fit \n",
    "%sx fsl_mrs --data fsl_mrs_preproc/metab.nii.gz --basis example_data/steam_11ms --output fit_long --algo MH --metab_groups Mac --overwrite --report --t1  example_data/T1.anat/T1_biascorr.nii.gz --h2o fsl_mrs_preproc/wref.nii.gz --tissue_frac segmentation.json\n"
   ]
  },
  {
   "cell_type": "markdown",
   "metadata": {},
   "source": [
    "### 5. Display the result\n",
    "Display the html reports in new tabs\n"
   ]
  },
  {
   "cell_type": "code",
   "execution_count": null,
   "metadata": {},
   "outputs": [],
   "source": [
    "%%capture\n",
    "import webbrowser\n",
    "import os\n",
    "current_path = os.getcwd()\n",
    "# generate a URL\n",
    "url = os.path.join('file:///'+current_path,'fsl_mrs_preproc/mergedReports.html')\n",
    "webbrowser.open(url)\n",
    "url = os.path.join('file:///'+current_path,'fit_short/report.html')\n",
    "webbrowser.open(url)\n",
    "url = os.path.join('file:///'+current_path,'fit_long/report.html')\n",
    "webbrowser.open(url)"
   ]
  }
 ],
 "metadata": {
  "kernelspec": {
   "display_name": "Python 3",
   "language": "python",
   "name": "python3"
  },
  "language_info": {
   "codemirror_mode": {
    "name": "ipython",
    "version": 3
   },
   "file_extension": ".py",
   "mimetype": "text/x-python",
   "name": "python",
   "nbconvert_exporter": "python",
   "pygments_lexer": "ipython3",
   "version": "3.8.16"
  }
 },
 "nbformat": 4,
 "nbformat_minor": 4
}
